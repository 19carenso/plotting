{
 "cells": [
  {
   "cell_type": "code",
   "execution_count": 20,
   "id": "196bc0d0",
   "metadata": {},
   "outputs": [
    {
     "name": "stdout",
     "output_type": "stream",
     "text": [
      "The autoreload extension is already loaded. To reload it, use:\n",
      "  %reload_ext autoreload\n"
     ]
    }
   ],
   "source": [
    "%load_ext autoreload\n",
    "%matplotlib inline"
   ]
  },
  {
   "cell_type": "code",
   "execution_count": 21,
   "id": "ebd94054",
   "metadata": {},
   "outputs": [
    {
     "name": "stdout",
     "output_type": "stream",
     "text": [
      "Own modules available: ['plot2D', 'plot1D', 'plotCondPDFs', 'plot1DInvLog']\n"
     ]
    }
   ],
   "source": [
    "%autoreload 2\n",
    "\n",
    "import sys,os,glob\n",
    "import matplotlib\n",
    "import matplotlib.pyplot as plt\n",
    "\n",
    "## Add own library to path\n",
    "workdir = os.getcwd()\n",
    "thismodule = sys.modules[__name__]\n",
    "moduledir = os.path.join(os.path.dirname(workdir),'src')\n",
    "# functionsdir = os.path.join(os.path.dirname(workdir),'plotting/src')\n",
    "sys.path.insert(0,moduledir)\n",
    "# sys.path.insert(0,functionsdir)\n",
    "for includedir in [moduledir,]:\n",
    "    print(\"Own modules available:\", [os.path.splitext(os.path.basename(x))[0]\n",
    "                                     for x in glob.glob(os.path.join(includedir,'*.py'))])\n",
    "\n",
    "# from conditionalstats import *\n",
    "from plot1D import *\n",
    "\n",
    "## Graphical parameters\n",
    "plt.style.use(os.path.join(matplotlib.get_configdir(),'stylelib/presentation.mplstyle'))"
   ]
  },
  {
   "cell_type": "code",
   "execution_count": 22,
   "id": "b59cca27",
   "metadata": {},
   "outputs": [
    {
     "name": "stdout",
     "output_type": "stream",
     "text": [
      "check that the curve bounds match\n",
      "x bounds: 0.0 99.99\n",
      "y bounds: 0 40\n",
      "\n",
      "Unexpected exception formatting exception. Falling back to standard exception\n"
     ]
    },
    {
     "name": "stderr",
     "output_type": "stream",
     "text": [
      "Traceback (most recent call last):\n",
      "  File \"/Users/bfildier/opt/anaconda3/lib/python3.9/site-packages/IPython/core/interactiveshell.py\", line 3369, in run_code\n",
      "    exec(code_obj, self.user_global_ns, self.user_ns)\n",
      "  File \"/var/folders/ds/cqsmbq1d3t7239kn7ljswlth0000gn/T/ipykernel_80380/2189680694.py\", line 37, in <cell line: 37>\n",
      "    showData(ax_show,ranks,perc,axisIL='y')\n",
      "  File \"/Users/bfildier/Code/dev_python/plotting/src/plot1D.py\", line 119, in showData\n",
      "    ax.margins(y=0)\n",
      "UnboundLocalError: local variable 'ymin' referenced before assignment\n",
      "\n",
      "During handling of the above exception, another exception occurred:\n",
      "\n",
      "Traceback (most recent call last):\n",
      "  File \"/Users/bfildier/opt/anaconda3/lib/python3.9/site-packages/IPython/core/interactiveshell.py\", line 1982, in showtraceback\n",
      "    stb = self.InteractiveTB.structured_traceback(\n",
      "  File \"/Users/bfildier/opt/anaconda3/lib/python3.9/site-packages/IPython/core/ultratb.py\", line 1118, in structured_traceback\n",
      "    return FormattedTB.structured_traceback(\n",
      "  File \"/Users/bfildier/opt/anaconda3/lib/python3.9/site-packages/IPython/core/ultratb.py\", line 1012, in structured_traceback\n",
      "    return VerboseTB.structured_traceback(\n",
      "  File \"/Users/bfildier/opt/anaconda3/lib/python3.9/site-packages/IPython/core/ultratb.py\", line 865, in structured_traceback\n",
      "    formatted_exception = self.format_exception_as_a_whole(etype, evalue, etb, number_of_lines_of_context,\n",
      "  File \"/Users/bfildier/opt/anaconda3/lib/python3.9/site-packages/IPython/core/ultratb.py\", line 818, in format_exception_as_a_whole\n",
      "    frames.append(self.format_record(r))\n",
      "  File \"/Users/bfildier/opt/anaconda3/lib/python3.9/site-packages/IPython/core/ultratb.py\", line 736, in format_record\n",
      "    result += ''.join(_format_traceback_lines(frame_info.lines, Colors, self.has_colors, lvals))\n",
      "  File \"/Users/bfildier/opt/anaconda3/lib/python3.9/site-packages/stack_data/utils.py\", line 145, in cached_property_wrapper\n",
      "    value = obj.__dict__[self.func.__name__] = self.func(obj)\n",
      "  File \"/Users/bfildier/opt/anaconda3/lib/python3.9/site-packages/stack_data/core.py\", line 698, in lines\n",
      "    pieces = self.included_pieces\n",
      "  File \"/Users/bfildier/opt/anaconda3/lib/python3.9/site-packages/stack_data/utils.py\", line 145, in cached_property_wrapper\n",
      "    value = obj.__dict__[self.func.__name__] = self.func(obj)\n",
      "  File \"/Users/bfildier/opt/anaconda3/lib/python3.9/site-packages/stack_data/core.py\", line 649, in included_pieces\n",
      "    pos = scope_pieces.index(self.executing_piece)\n",
      "  File \"/Users/bfildier/opt/anaconda3/lib/python3.9/site-packages/stack_data/utils.py\", line 145, in cached_property_wrapper\n",
      "    value = obj.__dict__[self.func.__name__] = self.func(obj)\n",
      "  File \"/Users/bfildier/opt/anaconda3/lib/python3.9/site-packages/stack_data/core.py\", line 628, in executing_piece\n",
      "    return only(\n",
      "  File \"/Users/bfildier/opt/anaconda3/lib/python3.9/site-packages/executing/executing.py\", line 164, in only\n",
      "    raise NotOneValueFound('Expected one value, found 0')\n",
      "executing.executing.NotOneValueFound: Expected one value, found 0\n"
     ]
    },
    {
     "data": {
      "image/png": "[encoded data removed]",
      "text/plain": [
       "<Figure size 864x324 with 4 Axes>"
      ]
     },
     "metadata": {
      "needs_background": "light"
     },
     "output_type": "display_data"
    }
   ],
   "source": [
    "fig,axs = plt.subplots(ncols=2,figsize=(12,4.5))\n",
    "\n",
    "# ranks = d.ranks\n",
    "# perc = d.percentiles\n",
    "\n",
    "ranks = np.array([0,90,99,99.9,99.99])\n",
    "perc = np.array([0,10,20,30,40])\n",
    "\n",
    "#--- on IL x axis\n",
    "ax=axs[0]\n",
    "ax_show = ax.twiny()\n",
    "\n",
    "#- set frame\n",
    "setXaxisIL(ax,ranks)\n",
    "#- show data\n",
    "showData(ax_show,ranks,perc)\n",
    "#- add hatch\n",
    "# addXHatch(ax_show,d.ranks,[20,30])\n",
    "addXHatch(ax_show,ranks,[2,3],fill=True,hatch=None,alpha=0.1,color='g')\n",
    "\n",
    "#- labels\n",
    "ax.set_xlabel('Ranks Q (%)')\n",
    "ax.set_ylabel('Percentiles $X^Q$')\n",
    "\n",
    "print('check that the curve bounds match')\n",
    "print('x bounds:',ranks[0],ranks[-1])\n",
    "print('y bounds:',perc[0],perc[-1])\n",
    "print()\n",
    "\n",
    "#--- on IL y axis\n",
    "ax=axs[1]\n",
    "ax_show = ax.twinx()\n",
    "\n",
    "#- set frame\n",
    "setYaxisIL(ax,ranks)\n",
    "#- show data\n",
    "showData(ax_show,ranks,perc,axisIL='y')\n",
    "#- add hatch\n",
    "addYHatch(ax_show,ranks,[2,3])\n",
    "\n",
    "#- labels\n",
    "ax.set_xlabel('Percentiles $X^Q$')\n",
    "ax.set_ylabel('Ranks Q (%)')\n",
    "\n",
    "plt.show()"
   ]
  },
  {
   "cell_type": "code",
   "execution_count": 23,
   "id": "6c3e67ea",
   "metadata": {},
   "outputs": [
    {
     "data": {
      "image/png": "[encoded data removed]",
      "text/plain": [
       "<Figure size 1296x216 with 8 Axes>"
      ]
     },
     "metadata": {
      "needs_background": "light"
     },
     "output_type": "display_data"
    }
   ],
   "source": [
    "# Check frame\n",
    "\n",
    "rankmin=0\n",
    "\n",
    "fig,axs = plt.subplots(ncols=4,figsize=(18,3))\n",
    "\n",
    "for i in range(4):\n",
    "    ax = axs[i]\n",
    "    \n",
    "    #- duplicate axes for rescaling frame\n",
    "    ax_frame = ax.twiny()\n",
    "    \n",
    "    # set ranks\n",
    "    k_min = -round(log10(1-rankmin/100))\n",
    "    k_max = i+2\n",
    "    dk = 0.1\n",
    "    scale_invlog = np.arange(k_min,k_max+dk,dk)\n",
    "    ranks_frame = (1 - np.power(10,-scale_invlog))*100\n",
    "#     print(k_min,k_max,scale_invlog,ranks_frame)\n",
    "    \n",
    "    #- set frame\n",
    "    setXaxisIL(ax_frame,ranks_frame)\n",
    "    \n",
    "#     subplotRanksILog(ax,d.ranks,d.percentiles,rankmin=0,rankmax=99.999)\n",
    "    \n",
    "    ax.set_ylim(0,100)\n",
    "    ax.set_xticks([])\n",
    "    "
   ]
  },
  {
   "cell_type": "code",
   "execution_count": 31,
   "id": "5bebb456",
   "metadata": {},
   "outputs": [],
   "source": [
    "??setXaxisIL"
   ]
  },
  {
   "cell_type": "code",
   "execution_count": 28,
   "id": "2f6b4f8a",
   "metadata": {},
   "outputs": [
    {
     "ename": "SyntaxError",
     "evalue": "closing parenthesis ']' does not match opening parenthesis '(' (1439807267.py, line 18)",
     "output_type": "error",
     "traceback": [
      "\u001b[0;36m  Input \u001b[0;32mIn [28]\u001b[0;36m\u001b[0m\n\u001b[0;31m    ks = np.round(np.log10(xticks]),7)\u001b[0m\n\u001b[0m                                 ^\u001b[0m\n\u001b[0;31mSyntaxError\u001b[0m\u001b[0;31m:\u001b[0m closing parenthesis ']' does not match opening parenthesis '('\n"
     ]
    }
   ],
   "source": [
    "def setXaxisIL(ax,ranks):\n",
    "    \n",
    "    # define axes values\n",
    "    x = np.flipud(1./(1-ranks/100.))\n",
    "    Nx = len(x)\n",
    "    # display empty data\n",
    "    h = ax.plot(x,np.full((Nx,),np.nan))\n",
    "    ax.set_xscale('log')\n",
    "    # invert direction\n",
    "    ax.invert_xaxis()\n",
    "    \n",
    "    # axis position\n",
    "    ax.xaxis.set_ticks_position('bottom')\n",
    "\n",
    "    # set xticks\n",
    "    xtick_pos = np.mod(np.round(np.log10(x),7),1) == 0\n",
    "    xticks = x[xtick_pos]\n",
    "    ks = np.round(np.log10(xticks]),7)\n",
    "    xticklabels = np.array([(\"%%2.%1df\"%max(0,k-2))%((1-10**(-k))*100) for k in np.flipud(ks)])\n",
    "    ax.set_xticks(xticks)\n",
    "    ax.set_xticklabels(xticklabels)"
   ]
  }
 ],
 "metadata": {
  "kernelspec": {
   "display_name": "Python 3 (ipykernel)",
   "language": "python",
   "name": "python3"
  },
  "language_info": {
   "codemirror_mode": {
    "name": "ipython",
    "version": 3
   },
   "file_extension": ".py",
   "mimetype": "text/x-python",
   "name": "python",
   "nbconvert_exporter": "python",
   "pygments_lexer": "ipython3",
   "version": "3.9.12"
  }
 },
 "nbformat": 4,
 "nbformat_minor": 5
}
